{
 "cells": [
  {
   "cell_type": "code",
   "execution_count": 11,
   "id": "3c849a2c",
   "metadata": {},
   "outputs": [],
   "source": [
    "from geopy.geocoders import Nominatim\n",
    "from geopy import distance"
   ]
  },
  {
   "cell_type": "code",
   "execution_count": 12,
   "id": "8633685f",
   "metadata": {},
   "outputs": [],
   "source": [
    "geocoder = Nominatim(user_agent = \"Hrithik\")"
   ]
  },
  {
   "cell_type": "code",
   "execution_count": 13,
   "id": "7a37e825",
   "metadata": {},
   "outputs": [],
   "source": [
    "location1 = \"iim bangalore\"\n",
    "location2 = \"vega city mall bangalore\""
   ]
  },
  {
   "cell_type": "code",
   "execution_count": 14,
   "id": "e4b397e5",
   "metadata": {},
   "outputs": [],
   "source": [
    "coordinates1 = geocoder.geocode(location1)"
   ]
  },
  {
   "cell_type": "code",
   "execution_count": 15,
   "id": "53a784dd",
   "metadata": {},
   "outputs": [],
   "source": [
    "coordinates2 = geocoder.geocode(location2)"
   ]
  },
  {
   "cell_type": "code",
   "execution_count": 19,
   "id": "b6a3dd02",
   "metadata": {},
   "outputs": [
    {
     "name": "stdout",
     "output_type": "stream",
     "text": [
      "IIM, Bannerghatta Road, Arekere, Puttenahalli Ward, Bommanahalli Zone, Bengaluru, Bangalore South, Bangalore Urban, Karnataka, 560076, India\n"
     ]
    }
   ],
   "source": [
    "print(coordinates1)"
   ]
  },
  {
   "cell_type": "code",
   "execution_count": 20,
   "id": "02ae4e4b",
   "metadata": {},
   "outputs": [
    {
     "name": "stdout",
     "output_type": "stream",
     "text": [
      "Vega City Mall, 172/1 Srinivas Industrial Estate, Bannerghatta Road, Bilekahalli, Bommanahalli Zone, Bengaluru, Bangalore South, Bangalore Urban, Karnataka, 560076, India\n"
     ]
    }
   ],
   "source": [
    "print(coordinates2)"
   ]
  },
  {
   "cell_type": "code",
   "execution_count": 21,
   "id": "86a6bb50",
   "metadata": {},
   "outputs": [
    {
     "name": "stdout",
     "output_type": "stream",
     "text": [
      "12.8959965\n"
     ]
    }
   ],
   "source": [
    "print(coordinates1.latitude)"
   ]
  },
  {
   "cell_type": "code",
   "execution_count": 22,
   "id": "c11943c4",
   "metadata": {},
   "outputs": [
    {
     "name": "stdout",
     "output_type": "stream",
     "text": [
      "12.9078462\n"
     ]
    }
   ],
   "source": [
    "print(coordinates2.latitude)"
   ]
  },
  {
   "cell_type": "code",
   "execution_count": 23,
   "id": "21e0ca7a",
   "metadata": {},
   "outputs": [
    {
     "name": "stdout",
     "output_type": "stream",
     "text": [
      "77.5996317\n"
     ]
    }
   ],
   "source": [
    "print(coordinates1.longitude)"
   ]
  },
  {
   "cell_type": "code",
   "execution_count": 24,
   "id": "83d2ce41",
   "metadata": {},
   "outputs": [
    {
     "name": "stdout",
     "output_type": "stream",
     "text": [
      "77.60113103400322\n"
     ]
    }
   ],
   "source": [
    "print(coordinates2.longitude)"
   ]
  },
  {
   "cell_type": "code",
   "execution_count": 25,
   "id": "98316cfe",
   "metadata": {},
   "outputs": [],
   "source": [
    "lat1,long1 = (coordinates1.latitude,coordinates1.longitude)\n",
    "lat2,long2 = (coordinates2.latitude,coordinates2.longitude)"
   ]
  },
  {
   "cell_type": "code",
   "execution_count": 28,
   "id": "c9d2ccfc",
   "metadata": {},
   "outputs": [],
   "source": [
    "place1 = (lat1,long1)\n",
    "place2 = (lat2,long2)"
   ]
  },
  {
   "cell_type": "code",
   "execution_count": 29,
   "id": "33354b4d",
   "metadata": {},
   "outputs": [
    {
     "name": "stdout",
     "output_type": "stream",
     "text": [
      "1.320988313988061 km\n"
     ]
    }
   ],
   "source": [
    "print(distance.distance(place1,place2))"
   ]
  },
  {
   "cell_type": "code",
   "execution_count": null,
   "id": "ba0977ca",
   "metadata": {},
   "outputs": [],
   "source": []
  }
 ],
 "metadata": {
  "kernelspec": {
   "display_name": "Python 3",
   "language": "python",
   "name": "python3"
  },
  "language_info": {
   "codemirror_mode": {
    "name": "ipython",
    "version": 3
   },
   "file_extension": ".py",
   "mimetype": "text/x-python",
   "name": "python",
   "nbconvert_exporter": "python",
   "pygments_lexer": "ipython3",
   "version": "3.9.0"
  }
 },
 "nbformat": 4,
 "nbformat_minor": 5
}
