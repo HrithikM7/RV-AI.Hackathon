{
 "cells": [
  {
   "cell_type": "code",
   "execution_count": 27,
   "id": "fc459ae0",
   "metadata": {},
   "outputs": [],
   "source": [
    "def get_user_data(api):\n",
    "    response = requests.get(f\"{api}\")\n",
    "    if response.status_code == 200:\n",
    "        return response.json()"
   ]
  },
  {
   "cell_type": "code",
   "execution_count": 28,
   "id": "73e93482",
   "metadata": {},
   "outputs": [],
   "source": [
    "dict = get_user_data(\"https://atlas.microsoft.com/search/poi/category/json?subscription-key=BBda83GkjJ--03W4DN-VqgzlkSfqxdfzZfbhAGL-Zyg&api-version=1.0&query=NON_GOVERNMENTAL_ORGANIZATION&lat=12.9237&lon=77.4987\")"
   ]
  },
  {
   "cell_type": "code",
   "execution_count": 41,
   "id": "2dd78384",
   "metadata": {},
   "outputs": [
    {
     "name": "stdout",
     "output_type": "stream",
     "text": [
      "{'type': 'POI', 'id': 'fEQCQiYC8jxCA8c4E4XRMw', 'score': 2.5727961063, 'dist': 2318.0403594333793, 'info': 'search:ta:356009032528547-IN', 'poi': {'name': 'All Karnataka Labour Welfare Association', 'phone': '+91 77952 15196', 'categorySet': [{'id': 9153}], 'categories': ['welfare organization'], 'classifications': [{'code': 'WELFARE_ORGANIZATION', 'names': [{'nameLocale': 'en-US', 'name': 'welfare organization'}]}]}, 'address': {'streetName': '4Th Cross Sonnenahalli Road, Venkateswara Layout Kengeri', 'municipalitySubdivision': 'Chikka Basthi', 'municipality': 'Bengaluru', 'countrySecondarySubdivision': 'Bengaluru', 'countrySubdivision': 'Karnataka', 'postalCode': '560056', 'countryCode': 'IN', 'country': 'India', 'countryCodeISO3': 'IND', 'freeformAddress': '4Th Cross Sonnenahalli Road, Venkateswara Layout Kengeri, Chikka Basthi, Bengaluru 560056, Karnataka', 'localName': 'Bengaluru'}, 'position': {'lat': 12.93773, 'lon': 77.48288}, 'viewport': {'topLeftPoint': {'lat': 12.93863, 'lon': 77.48196}, 'btmRightPoint': {'lat': 12.93683, 'lon': 77.4838}}, 'entryPoints': [{'type': 'main', 'position': {'lat': 12.93771, 'lon': 77.48297}}]}\n"
     ]
    }
   ],
   "source": [
    "print(dict['results'][0])"
   ]
  },
  {
   "cell_type": "code",
   "execution_count": 42,
   "id": "d3c32923",
   "metadata": {},
   "outputs": [
    {
     "data": {
      "text/plain": [
       "{'name': 'All Karnataka Labour Welfare Association',\n",
       " 'phone': '+91 77952 15196',\n",
       " 'categorySet': [{'id': 9153}],\n",
       " 'categories': ['welfare organization'],\n",
       " 'classifications': [{'code': 'WELFARE_ORGANIZATION',\n",
       "   'names': [{'nameLocale': 'en-US', 'name': 'welfare organization'}]}]}"
      ]
     },
     "execution_count": 42,
     "metadata": {},
     "output_type": "execute_result"
    }
   ],
   "source": [
    "dict['results'][0]['poi']"
   ]
  },
  {
   "cell_type": "code",
   "execution_count": 47,
   "id": "4102b505",
   "metadata": {},
   "outputs": [
    {
     "name": "stdout",
     "output_type": "stream",
     "text": [
      "All Karnataka Labour Welfare Association\n",
      "false\n",
      "false\n",
      "false\n",
      "false\n",
      "false\n",
      "false\n",
      "Sri Mahalakshmi Old Age Home\n",
      "false\n",
      "false\n"
     ]
    }
   ],
   "source": [
    "key = 'phone'\n",
    "for i in range(0,10):\n",
    "    if key in dict['results'][i]['poi']:\n",
    "        print(dict['results'][i]['poi']['name'])\n",
    "    else:\n",
    "        print(\"false\")"
   ]
  },
  {
   "cell_type": "code",
   "execution_count": 49,
   "id": "c7e4a51e",
   "metadata": {},
   "outputs": [
    {
     "name": "stdout",
     "output_type": "stream",
     "text": [
      "All Karnataka Labour Welfare Association\n",
      "false\n",
      "false\n",
      "false\n",
      "false\n",
      "false\n",
      "false\n",
      "Sri Mahalakshmi Old Age Home\n",
      "false\n",
      "false\n",
      "[{'All Karnataka Labour Welfare Association': ['+91 77952 15196', 2318.0403594333793]}, {'Sri Mahalakshmi Old Age Home': ['+91 97401 65969', 8652.833522577377]}]\n"
     ]
    }
   ],
   "source": [
    "l = []\n",
    "key = 'phone'\n",
    "for i in range(0,10):\n",
    "    if key in dict['results'][i]['poi']:\n",
    "        print(dict['results'][i]['poi']['name'])\n",
    "        l.append({dict['results'][i]['poi']['name'] : [dict['results'][i]['poi']['phone'], dict['results'][i]['dist']]})\n",
    "    else:\n",
    "        print(\"false\")\n",
    "\n",
    "print(l)"
   ]
  },
  {
   "cell_type": "code",
   "execution_count": 51,
   "id": "fe502578",
   "metadata": {},
   "outputs": [
    {
     "name": "stdout",
     "output_type": "stream",
     "text": [
      "[{'All Karnataka Labour Welfare Association': ['+91 77952 15196', 2318.0403594333793]}, {'Sri Mahalakshmi Old Age Home': ['+91 97401 65969', 8652.833522577377]}]\n"
     ]
    }
   ],
   "source": [
    "#FINAL CODE\n",
    "\n",
    "l = []\n",
    "key = 'phone'\n",
    "for i in range(0,len(dict['results'])):\n",
    "    if key in dict['results'][i]['poi']:\n",
    "        # print(dict['results'][i]['poi']['name'])\n",
    "        l.append({dict['results'][i]['poi']['name'] : [dict['results'][i]['poi']['phone'], dict['results'][i]['dist']]})\n",
    "\n",
    "print(l)"
   ]
  },
  {
   "cell_type": "markdown",
   "id": "57c0fa75",
   "metadata": {},
   "source": [
    "#Step 1 : Go into the results of the dictionary returned from API Call : dict['results']\n",
    "#Step 2 : We can access each NGO by performing a loop from 0 to 9 as dict['results'][i]\n",
    "#Step 3 : Then we check if a phone number is present within dict['results'][i]['poi'] by checking if 'phone' key is present\n",
    "          key = 'phone'\n",
    "          if key in dict['results'][i]['poi']:\n",
    "            print(\"true\")\n",
    "          else:\n",
    "            print(\"false\")            \n",
    "Step 4: "
   ]
  },
  {
   "cell_type": "code",
   "execution_count": null,
   "id": "7bd9e68f",
   "metadata": {},
   "outputs": [],
   "source": []
  }
 ],
 "metadata": {
  "kernelspec": {
   "display_name": "Python 3",
   "language": "python",
   "name": "python3"
  },
  "language_info": {
   "codemirror_mode": {
    "name": "ipython",
    "version": 3
   },
   "file_extension": ".py",
   "mimetype": "text/x-python",
   "name": "python",
   "nbconvert_exporter": "python",
   "pygments_lexer": "ipython3",
   "version": "3.9.0"
  }
 },
 "nbformat": 4,
 "nbformat_minor": 5
}
