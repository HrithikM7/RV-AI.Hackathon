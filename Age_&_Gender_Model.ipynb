{
  "nbformat": 4,
  "nbformat_minor": 0,
  "metadata": {
    "colab": {
      "provenance": []
    },
    "kernelspec": {
      "name": "python3",
      "display_name": "Python 3"
    },
    "language_info": {
      "name": "python"
    },
    "accelerator": "GPU",
    "gpuClass": "standard"
  },
  "cells": [
    {
      "cell_type": "code",
      "execution_count": 1,
      "metadata": {
        "colab": {
          "base_uri": "https://localhost:8080/"
        },
        "id": "tK6ckN8ZTULu",
        "outputId": "7f0a0e3a-65cf-4728-b0b8-87ec64ae2b15"
      },
      "outputs": [
        {
          "output_type": "stream",
          "name": "stdout",
          "text": [
            "Drive already mounted at /content/drive; to attempt to forcibly remount, call drive.mount(\"/content/drive\", force_remount=True).\n"
          ]
        }
      ],
      "source": [
        "from google.colab import drive\n",
        "drive.mount('/content/drive')"
      ]
    },
    {
      "cell_type": "code",
      "source": [
        "import numpy as np\n",
        "import pandas as pd\n",
        "import matplotlib.pyplot as plt\n",
        "import seaborn as sns\n",
        "import tensorflow as tf\n",
        "from tensorflow import keras\n",
        "from tensorflow.python.keras import layers\n",
        "from keras.optimizers import Adam\n",
        "from keras.preprocessing.image import ImageDataGenerator\n",
        "from keras.models import Sequential\n",
        "from keras.layers import Dense,Dropout,Flatten\n",
        "from keras.layers import Conv2D,MaxPooling2D\n",
        "import shutil\n",
        "%matplotlib inline "
      ],
      "metadata": {
        "id": "e_aUV8sQWPQU"
      },
      "execution_count": 2,
      "outputs": []
    },
    {
      "cell_type": "code",
      "source": [
        "df = pd.read_csv(\"/content/drive/MyDrive/Hackathon_Models/Age & Gender Model/age_gender.csv\")"
      ],
      "metadata": {
        "id": "VscVr02xWDcb"
      },
      "execution_count": 36,
      "outputs": []
    },
    {
      "cell_type": "code",
      "source": [
        "df.sample(10)"
      ],
      "metadata": {
        "colab": {
          "base_uri": "https://localhost:8080/",
          "height": 407
        },
        "id": "wY5M7_xAWDeI",
        "outputId": "e12b1b9b-4498-48d1-d23b-dd6ab57ae136"
      },
      "execution_count": 37,
      "outputs": [
        {
          "output_type": "execute_result",
          "data": {
            "text/plain": [
              "       age  ethnicity  gender                        img_name  \\\n",
              "11933   32          1       1  20170113000731466.jpg.chip.jpg   \n",
              "15149   39          0       0  20170104174316011.jpg.chip.jpg   \n",
              "16940   45          0       0  20170117203225383.jpg.chip.jpg   \n",
              "19984   57          0       0  20170117191706202.jpg.chip.jpg   \n",
              "15698   40          4       1  20170109003506229.jpg.chip.jpg   \n",
              "22260   73          0       0  20170104213653518.jpg.chip.jpg   \n",
              "15952   40          0       0  20170117152243349.jpg.chip.jpg   \n",
              "9641    28          0       1  20170116221705370.jpg.chip.jpg   \n",
              "12804   34          0       0  20170104170338177.jpg.chip.jpg   \n",
              "20073   58          0       0  20170105173557845.jpg.chip.jpg   \n",
              "\n",
              "                                                  pixels  \n",
              "11933  140 127 127 94 80 60 35 32 24 25 67 123 159 17...  \n",
              "15149  53 57 59 77 98 122 124 131 148 150 148 146 149...  \n",
              "16940  87 105 118 132 150 154 157 158 162 165 169 171...  \n",
              "19984  96 105 126 148 166 170 166 164 169 168 167 174...  \n",
              "15698  28 17 24 22 21 21 23 23 24 25 28 25 15 10 7 17...  \n",
              "22260  84 143 124 155 162 170 166 181 186 192 204 204...  \n",
              "15952  196 196 198 198 198 200 158 41 41 80 98 113 11...  \n",
              "9641   127 115 124 114 99 95 104 128 161 185 201 211 ...  \n",
              "12804  108 98 90 73 109 168 190 191 198 196 190 182 1...  \n",
              "20073  30 30 29 28 27 29 26 22 22 22 16 13 13 14 15 1...  "
            ],
            "text/html": [
              "\n",
              "  <div id=\"df-2d5116a1-4122-4032-a9eb-e1ba56a691bb\">\n",
              "    <div class=\"colab-df-container\">\n",
              "      <div>\n",
              "<style scoped>\n",
              "    .dataframe tbody tr th:only-of-type {\n",
              "        vertical-align: middle;\n",
              "    }\n",
              "\n",
              "    .dataframe tbody tr th {\n",
              "        vertical-align: top;\n",
              "    }\n",
              "\n",
              "    .dataframe thead th {\n",
              "        text-align: right;\n",
              "    }\n",
              "</style>\n",
              "<table border=\"1\" class=\"dataframe\">\n",
              "  <thead>\n",
              "    <tr style=\"text-align: right;\">\n",
              "      <th></th>\n",
              "      <th>age</th>\n",
              "      <th>ethnicity</th>\n",
              "      <th>gender</th>\n",
              "      <th>img_name</th>\n",
              "      <th>pixels</th>\n",
              "    </tr>\n",
              "  </thead>\n",
              "  <tbody>\n",
              "    <tr>\n",
              "      <th>11933</th>\n",
              "      <td>32</td>\n",
              "      <td>1</td>\n",
              "      <td>1</td>\n",
              "      <td>20170113000731466.jpg.chip.jpg</td>\n",
              "      <td>140 127 127 94 80 60 35 32 24 25 67 123 159 17...</td>\n",
              "    </tr>\n",
              "    <tr>\n",
              "      <th>15149</th>\n",
              "      <td>39</td>\n",
              "      <td>0</td>\n",
              "      <td>0</td>\n",
              "      <td>20170104174316011.jpg.chip.jpg</td>\n",
              "      <td>53 57 59 77 98 122 124 131 148 150 148 146 149...</td>\n",
              "    </tr>\n",
              "    <tr>\n",
              "      <th>16940</th>\n",
              "      <td>45</td>\n",
              "      <td>0</td>\n",
              "      <td>0</td>\n",
              "      <td>20170117203225383.jpg.chip.jpg</td>\n",
              "      <td>87 105 118 132 150 154 157 158 162 165 169 171...</td>\n",
              "    </tr>\n",
              "    <tr>\n",
              "      <th>19984</th>\n",
              "      <td>57</td>\n",
              "      <td>0</td>\n",
              "      <td>0</td>\n",
              "      <td>20170117191706202.jpg.chip.jpg</td>\n",
              "      <td>96 105 126 148 166 170 166 164 169 168 167 174...</td>\n",
              "    </tr>\n",
              "    <tr>\n",
              "      <th>15698</th>\n",
              "      <td>40</td>\n",
              "      <td>4</td>\n",
              "      <td>1</td>\n",
              "      <td>20170109003506229.jpg.chip.jpg</td>\n",
              "      <td>28 17 24 22 21 21 23 23 24 25 28 25 15 10 7 17...</td>\n",
              "    </tr>\n",
              "    <tr>\n",
              "      <th>22260</th>\n",
              "      <td>73</td>\n",
              "      <td>0</td>\n",
              "      <td>0</td>\n",
              "      <td>20170104213653518.jpg.chip.jpg</td>\n",
              "      <td>84 143 124 155 162 170 166 181 186 192 204 204...</td>\n",
              "    </tr>\n",
              "    <tr>\n",
              "      <th>15952</th>\n",
              "      <td>40</td>\n",
              "      <td>0</td>\n",
              "      <td>0</td>\n",
              "      <td>20170117152243349.jpg.chip.jpg</td>\n",
              "      <td>196 196 198 198 198 200 158 41 41 80 98 113 11...</td>\n",
              "    </tr>\n",
              "    <tr>\n",
              "      <th>9641</th>\n",
              "      <td>28</td>\n",
              "      <td>0</td>\n",
              "      <td>1</td>\n",
              "      <td>20170116221705370.jpg.chip.jpg</td>\n",
              "      <td>127 115 124 114 99 95 104 128 161 185 201 211 ...</td>\n",
              "    </tr>\n",
              "    <tr>\n",
              "      <th>12804</th>\n",
              "      <td>34</td>\n",
              "      <td>0</td>\n",
              "      <td>0</td>\n",
              "      <td>20170104170338177.jpg.chip.jpg</td>\n",
              "      <td>108 98 90 73 109 168 190 191 198 196 190 182 1...</td>\n",
              "    </tr>\n",
              "    <tr>\n",
              "      <th>20073</th>\n",
              "      <td>58</td>\n",
              "      <td>0</td>\n",
              "      <td>0</td>\n",
              "      <td>20170105173557845.jpg.chip.jpg</td>\n",
              "      <td>30 30 29 28 27 29 26 22 22 22 16 13 13 14 15 1...</td>\n",
              "    </tr>\n",
              "  </tbody>\n",
              "</table>\n",
              "</div>\n",
              "      <button class=\"colab-df-convert\" onclick=\"convertToInteractive('df-2d5116a1-4122-4032-a9eb-e1ba56a691bb')\"\n",
              "              title=\"Convert this dataframe to an interactive table.\"\n",
              "              style=\"display:none;\">\n",
              "        \n",
              "  <svg xmlns=\"http://www.w3.org/2000/svg\" height=\"24px\"viewBox=\"0 0 24 24\"\n",
              "       width=\"24px\">\n",
              "    <path d=\"M0 0h24v24H0V0z\" fill=\"none\"/>\n",
              "    <path d=\"M18.56 5.44l.94 2.06.94-2.06 2.06-.94-2.06-.94-.94-2.06-.94 2.06-2.06.94zm-11 1L8.5 8.5l.94-2.06 2.06-.94-2.06-.94L8.5 2.5l-.94 2.06-2.06.94zm10 10l.94 2.06.94-2.06 2.06-.94-2.06-.94-.94-2.06-.94 2.06-2.06.94z\"/><path d=\"M17.41 7.96l-1.37-1.37c-.4-.4-.92-.59-1.43-.59-.52 0-1.04.2-1.43.59L10.3 9.45l-7.72 7.72c-.78.78-.78 2.05 0 2.83L4 21.41c.39.39.9.59 1.41.59.51 0 1.02-.2 1.41-.59l7.78-7.78 2.81-2.81c.8-.78.8-2.07 0-2.86zM5.41 20L4 18.59l7.72-7.72 1.47 1.35L5.41 20z\"/>\n",
              "  </svg>\n",
              "      </button>\n",
              "      \n",
              "  <style>\n",
              "    .colab-df-container {\n",
              "      display:flex;\n",
              "      flex-wrap:wrap;\n",
              "      gap: 12px;\n",
              "    }\n",
              "\n",
              "    .colab-df-convert {\n",
              "      background-color: #E8F0FE;\n",
              "      border: none;\n",
              "      border-radius: 50%;\n",
              "      cursor: pointer;\n",
              "      display: none;\n",
              "      fill: #1967D2;\n",
              "      height: 32px;\n",
              "      padding: 0 0 0 0;\n",
              "      width: 32px;\n",
              "    }\n",
              "\n",
              "    .colab-df-convert:hover {\n",
              "      background-color: #E2EBFA;\n",
              "      box-shadow: 0px 1px 2px rgba(60, 64, 67, 0.3), 0px 1px 3px 1px rgba(60, 64, 67, 0.15);\n",
              "      fill: #174EA6;\n",
              "    }\n",
              "\n",
              "    [theme=dark] .colab-df-convert {\n",
              "      background-color: #3B4455;\n",
              "      fill: #D2E3FC;\n",
              "    }\n",
              "\n",
              "    [theme=dark] .colab-df-convert:hover {\n",
              "      background-color: #434B5C;\n",
              "      box-shadow: 0px 1px 3px 1px rgba(0, 0, 0, 0.15);\n",
              "      filter: drop-shadow(0px 1px 2px rgba(0, 0, 0, 0.3));\n",
              "      fill: #FFFFFF;\n",
              "    }\n",
              "  </style>\n",
              "\n",
              "      <script>\n",
              "        const buttonEl =\n",
              "          document.querySelector('#df-2d5116a1-4122-4032-a9eb-e1ba56a691bb button.colab-df-convert');\n",
              "        buttonEl.style.display =\n",
              "          google.colab.kernel.accessAllowed ? 'block' : 'none';\n",
              "\n",
              "        async function convertToInteractive(key) {\n",
              "          const element = document.querySelector('#df-2d5116a1-4122-4032-a9eb-e1ba56a691bb');\n",
              "          const dataTable =\n",
              "            await google.colab.kernel.invokeFunction('convertToInteractive',\n",
              "                                                     [key], {});\n",
              "          if (!dataTable) return;\n",
              "\n",
              "          const docLinkHtml = 'Like what you see? Visit the ' +\n",
              "            '<a target=\"_blank\" href=https://colab.research.google.com/notebooks/data_table.ipynb>data table notebook</a>'\n",
              "            + ' to learn more about interactive tables.';\n",
              "          element.innerHTML = '';\n",
              "          dataTable['output_type'] = 'display_data';\n",
              "          await google.colab.output.renderOutput(dataTable, element);\n",
              "          const docLink = document.createElement('div');\n",
              "          docLink.innerHTML = docLinkHtml;\n",
              "          element.appendChild(docLink);\n",
              "        }\n",
              "      </script>\n",
              "    </div>\n",
              "  </div>\n",
              "  "
            ]
          },
          "metadata": {},
          "execution_count": 37
        }
      ]
    },
    {
      "cell_type": "code",
      "source": [
        "for i in range(0,df.shape[0]):    \n",
        "  df['pixels'][i] = np.array(df['pixels'][i].split(' ')).reshape(48,48)"
      ],
      "metadata": {
        "colab": {
          "base_uri": "https://localhost:8080/"
        },
        "id": "ZYjNzDDzWDgv",
        "outputId": "8264c3e4-ca36-48d8-8036-10a2d4f93b1b"
      },
      "execution_count": 38,
      "outputs": [
        {
          "output_type": "stream",
          "name": "stderr",
          "text": [
            "<ipython-input-38-dcb21e7fedf0>:2: SettingWithCopyWarning: \n",
            "A value is trying to be set on a copy of a slice from a DataFrame\n",
            "\n",
            "See the caveats in the documentation: https://pandas.pydata.org/pandas-docs/stable/user_guide/indexing.html#returning-a-view-versus-a-copy\n",
            "  df['pixels'][i] = np.array(df['pixels'][i].split(' ')).reshape(48,48)\n"
          ]
        }
      ]
    },
    {
      "cell_type": "code",
      "source": [
        "df.isnull().sum()"
      ],
      "metadata": {
        "colab": {
          "base_uri": "https://localhost:8080/"
        },
        "id": "cBy4JdamWDiS",
        "outputId": "99c64994-2c95-4f1b-fb7a-964b9cc2a44f"
      },
      "execution_count": 39,
      "outputs": [
        {
          "output_type": "execute_result",
          "data": {
            "text/plain": [
              "age          0\n",
              "ethnicity    0\n",
              "gender       0\n",
              "img_name     0\n",
              "pixels       0\n",
              "dtype: int64"
            ]
          },
          "metadata": {},
          "execution_count": 39
        }
      ]
    },
    {
      "cell_type": "code",
      "source": [
        "df['age'].nunique()"
      ],
      "metadata": {
        "colab": {
          "base_uri": "https://localhost:8080/"
        },
        "id": "DJwCr_7HYGFT",
        "outputId": "57db9e15-9016-4ad3-a3b8-5ed8e1299229"
      },
      "execution_count": 40,
      "outputs": [
        {
          "output_type": "execute_result",
          "data": {
            "text/plain": [
              "104"
            ]
          },
          "metadata": {},
          "execution_count": 40
        }
      ]
    },
    {
      "cell_type": "code",
      "source": [
        "df['ethnicity'].nunique()"
      ],
      "metadata": {
        "colab": {
          "base_uri": "https://localhost:8080/"
        },
        "id": "p8pG2sIYYMHB",
        "outputId": "f14263d8-05e0-4462-f83c-f91c3bcb5eef"
      },
      "execution_count": 41,
      "outputs": [
        {
          "output_type": "execute_result",
          "data": {
            "text/plain": [
              "5"
            ]
          },
          "metadata": {},
          "execution_count": 41
        }
      ]
    },
    {
      "cell_type": "code",
      "source": [
        "df[\"age.\"] = pd.cut(df[\"age\"],bins=[0., 10., 20.0, 30., 50.,70.,np.inf],labels=[0,1,2,3,4,5])"
      ],
      "metadata": {
        "id": "9ZNVbK02YvGu"
      },
      "execution_count": 42,
      "outputs": []
    },
    {
      "cell_type": "code",
      "source": [
        "df.columns"
      ],
      "metadata": {
        "colab": {
          "base_uri": "https://localhost:8080/"
        },
        "id": "oKc-0vBHaehS",
        "outputId": "dd3f6f31-3a93-4227-b95d-3196bb70ffc2"
      },
      "execution_count": 43,
      "outputs": [
        {
          "output_type": "execute_result",
          "data": {
            "text/plain": [
              "Index(['age', 'ethnicity', 'gender', 'img_name', 'pixels', 'age.'], dtype='object')"
            ]
          },
          "metadata": {},
          "execution_count": 43
        }
      ]
    },
    {
      "cell_type": "code",
      "source": [
        "df = df.drop(['img_name','age'],axis = 1)"
      ],
      "metadata": {
        "id": "FC4mNhf_acRT"
      },
      "execution_count": 44,
      "outputs": []
    },
    {
      "cell_type": "code",
      "source": [
        "df.head(2)"
      ],
      "metadata": {
        "colab": {
          "base_uri": "https://localhost:8080/",
          "height": 112
        },
        "id": "YLq6xYYzacar",
        "outputId": "168b8d48-80d5-4df5-9aa8-87a0a99bf459"
      },
      "execution_count": 45,
      "outputs": [
        {
          "output_type": "execute_result",
          "data": {
            "text/plain": [
              "   ethnicity  gender                                             pixels age.\n",
              "0          2       0  [[129, 128, 128, 126, 127, 130, 133, 135, 139,...    0\n",
              "1          2       0  [[164, 74, 111, 168, 169, 171, 175, 182, 184, ...    0"
            ],
            "text/html": [
              "\n",
              "  <div id=\"df-755c167f-c763-4285-af82-839786ba9163\">\n",
              "    <div class=\"colab-df-container\">\n",
              "      <div>\n",
              "<style scoped>\n",
              "    .dataframe tbody tr th:only-of-type {\n",
              "        vertical-align: middle;\n",
              "    }\n",
              "\n",
              "    .dataframe tbody tr th {\n",
              "        vertical-align: top;\n",
              "    }\n",
              "\n",
              "    .dataframe thead th {\n",
              "        text-align: right;\n",
              "    }\n",
              "</style>\n",
              "<table border=\"1\" class=\"dataframe\">\n",
              "  <thead>\n",
              "    <tr style=\"text-align: right;\">\n",
              "      <th></th>\n",
              "      <th>ethnicity</th>\n",
              "      <th>gender</th>\n",
              "      <th>pixels</th>\n",
              "      <th>age.</th>\n",
              "    </tr>\n",
              "  </thead>\n",
              "  <tbody>\n",
              "    <tr>\n",
              "      <th>0</th>\n",
              "      <td>2</td>\n",
              "      <td>0</td>\n",
              "      <td>[[129, 128, 128, 126, 127, 130, 133, 135, 139,...</td>\n",
              "      <td>0</td>\n",
              "    </tr>\n",
              "    <tr>\n",
              "      <th>1</th>\n",
              "      <td>2</td>\n",
              "      <td>0</td>\n",
              "      <td>[[164, 74, 111, 168, 169, 171, 175, 182, 184, ...</td>\n",
              "      <td>0</td>\n",
              "    </tr>\n",
              "  </tbody>\n",
              "</table>\n",
              "</div>\n",
              "      <button class=\"colab-df-convert\" onclick=\"convertToInteractive('df-755c167f-c763-4285-af82-839786ba9163')\"\n",
              "              title=\"Convert this dataframe to an interactive table.\"\n",
              "              style=\"display:none;\">\n",
              "        \n",
              "  <svg xmlns=\"http://www.w3.org/2000/svg\" height=\"24px\"viewBox=\"0 0 24 24\"\n",
              "       width=\"24px\">\n",
              "    <path d=\"M0 0h24v24H0V0z\" fill=\"none\"/>\n",
              "    <path d=\"M18.56 5.44l.94 2.06.94-2.06 2.06-.94-2.06-.94-.94-2.06-.94 2.06-2.06.94zm-11 1L8.5 8.5l.94-2.06 2.06-.94-2.06-.94L8.5 2.5l-.94 2.06-2.06.94zm10 10l.94 2.06.94-2.06 2.06-.94-2.06-.94-.94-2.06-.94 2.06-2.06.94z\"/><path d=\"M17.41 7.96l-1.37-1.37c-.4-.4-.92-.59-1.43-.59-.52 0-1.04.2-1.43.59L10.3 9.45l-7.72 7.72c-.78.78-.78 2.05 0 2.83L4 21.41c.39.39.9.59 1.41.59.51 0 1.02-.2 1.41-.59l7.78-7.78 2.81-2.81c.8-.78.8-2.07 0-2.86zM5.41 20L4 18.59l7.72-7.72 1.47 1.35L5.41 20z\"/>\n",
              "  </svg>\n",
              "      </button>\n",
              "      \n",
              "  <style>\n",
              "    .colab-df-container {\n",
              "      display:flex;\n",
              "      flex-wrap:wrap;\n",
              "      gap: 12px;\n",
              "    }\n",
              "\n",
              "    .colab-df-convert {\n",
              "      background-color: #E8F0FE;\n",
              "      border: none;\n",
              "      border-radius: 50%;\n",
              "      cursor: pointer;\n",
              "      display: none;\n",
              "      fill: #1967D2;\n",
              "      height: 32px;\n",
              "      padding: 0 0 0 0;\n",
              "      width: 32px;\n",
              "    }\n",
              "\n",
              "    .colab-df-convert:hover {\n",
              "      background-color: #E2EBFA;\n",
              "      box-shadow: 0px 1px 2px rgba(60, 64, 67, 0.3), 0px 1px 3px 1px rgba(60, 64, 67, 0.15);\n",
              "      fill: #174EA6;\n",
              "    }\n",
              "\n",
              "    [theme=dark] .colab-df-convert {\n",
              "      background-color: #3B4455;\n",
              "      fill: #D2E3FC;\n",
              "    }\n",
              "\n",
              "    [theme=dark] .colab-df-convert:hover {\n",
              "      background-color: #434B5C;\n",
              "      box-shadow: 0px 1px 3px 1px rgba(0, 0, 0, 0.15);\n",
              "      filter: drop-shadow(0px 1px 2px rgba(0, 0, 0, 0.3));\n",
              "      fill: #FFFFFF;\n",
              "    }\n",
              "  </style>\n",
              "\n",
              "      <script>\n",
              "        const buttonEl =\n",
              "          document.querySelector('#df-755c167f-c763-4285-af82-839786ba9163 button.colab-df-convert');\n",
              "        buttonEl.style.display =\n",
              "          google.colab.kernel.accessAllowed ? 'block' : 'none';\n",
              "\n",
              "        async function convertToInteractive(key) {\n",
              "          const element = document.querySelector('#df-755c167f-c763-4285-af82-839786ba9163');\n",
              "          const dataTable =\n",
              "            await google.colab.kernel.invokeFunction('convertToInteractive',\n",
              "                                                     [key], {});\n",
              "          if (!dataTable) return;\n",
              "\n",
              "          const docLinkHtml = 'Like what you see? Visit the ' +\n",
              "            '<a target=\"_blank\" href=https://colab.research.google.com/notebooks/data_table.ipynb>data table notebook</a>'\n",
              "            + ' to learn more about interactive tables.';\n",
              "          element.innerHTML = '';\n",
              "          dataTable['output_type'] = 'display_data';\n",
              "          await google.colab.output.renderOutput(dataTable, element);\n",
              "          const docLink = document.createElement('div');\n",
              "          docLink.innerHTML = docLinkHtml;\n",
              "          element.appendChild(docLink);\n",
              "        }\n",
              "      </script>\n",
              "    </div>\n",
              "  </div>\n",
              "  "
            ]
          },
          "metadata": {},
          "execution_count": 45
        }
      ]
    },
    {
      "cell_type": "code",
      "source": [
        "df['ethnicity'] = df['ethnicity'].astype(np.float32)\n",
        "df['gender'] = df['gender'].astype(np.float32)\n",
        "df['age.'] = df['age.'].astype(np.float32)"
      ],
      "metadata": {
        "id": "_Geo-KBGeWVO"
      },
      "execution_count": 46,
      "outputs": []
    },
    {
      "cell_type": "code",
      "source": [
        "for i in range(0,df.shape[0]):\n",
        "  df['pixels'][i] = df['pixels'][i].astype(np.float32).reshape(48,48,1)"
      ],
      "metadata": {
        "colab": {
          "base_uri": "https://localhost:8080/"
        },
        "id": "iTQDV-AUcB85",
        "outputId": "b9751b72-19ae-4aaf-98c5-79ee2e04ec7c"
      },
      "execution_count": 66,
      "outputs": [
        {
          "output_type": "stream",
          "name": "stderr",
          "text": [
            "<ipython-input-66-d87f2df839d2>:2: SettingWithCopyWarning: \n",
            "A value is trying to be set on a copy of a slice from a DataFrame\n",
            "\n",
            "See the caveats in the documentation: https://pandas.pydata.org/pandas-docs/stable/user_guide/indexing.html#returning-a-view-versus-a-copy\n",
            "  df['pixels'][i] = df['pixels'][i].astype(np.float32).reshape(48,48,1)\n"
          ]
        }
      ]
    },
    {
      "cell_type": "code",
      "source": [
        "df['pixels'] = df['pixels'].apply(lambda x: x/255)\n"
      ],
      "metadata": {
        "id": "1KqQv7KbnEXn"
      },
      "execution_count": 68,
      "outputs": []
    },
    {
      "cell_type": "code",
      "source": [
        "X = np.array(df['pixels'].tolist())"
      ],
      "metadata": {
        "id": "NZNRHsBxnKJE"
      },
      "execution_count": 69,
      "outputs": []
    },
    {
      "cell_type": "code",
      "source": [
        "X = X.reshape(X.shape[0],48,48,1)"
      ],
      "metadata": {
        "id": "d0LzbHwOnKM1"
      },
      "execution_count": 70,
      "outputs": []
    },
    {
      "cell_type": "code",
      "source": [
        "from sklearn.model_selection import train_test_split\n",
        "X_train,X_test,y_train,y_test = train_test_split(X,np.array(df['age.']),test_size = 0.2, random_state = 30)"
      ],
      "metadata": {
        "id": "LHp4BcPJZ8ZG"
      },
      "execution_count": 72,
      "outputs": []
    },
    {
      "cell_type": "code",
      "source": [
        "model = Sequential()"
      ],
      "metadata": {
        "id": "9h9ldefWWDlb"
      },
      "execution_count": 73,
      "outputs": []
    },
    {
      "cell_type": "code",
      "source": [
        "model.add(Conv2D(32, kernel_size=(3, 3), activation='relu', input_shape=(48,48,1)))"
      ],
      "metadata": {
        "id": "pMczG73lX3m5"
      },
      "execution_count": 74,
      "outputs": []
    },
    {
      "cell_type": "code",
      "source": [
        "model.add(Conv2D(64, kernel_size=(3, 3), activation='relu'))\n",
        "model.add(MaxPooling2D(pool_size=(2, 2)))\n",
        "model.add(Dropout(0.1))"
      ],
      "metadata": {
        "id": "dyvNNheqX9FW"
      },
      "execution_count": 75,
      "outputs": []
    },
    {
      "cell_type": "code",
      "source": [
        "model.add(Conv2D(128, kernel_size=(3, 3), activation='relu'))\n",
        "model.add(MaxPooling2D(pool_size=(2, 2)))\n",
        "model.add(Dropout(0.1))"
      ],
      "metadata": {
        "id": "UZXQnUxCX_rN"
      },
      "execution_count": 76,
      "outputs": []
    },
    {
      "cell_type": "code",
      "source": [
        "model.add(Conv2D(256, kernel_size=(3, 3), activation='relu'))\n",
        "model.add(MaxPooling2D(pool_size=(2, 2)))\n",
        "model.add(Dropout(0.1))"
      ],
      "metadata": {
        "id": "9mc-mSuSYAzF"
      },
      "execution_count": 77,
      "outputs": []
    },
    {
      "cell_type": "code",
      "source": [
        "model.add(Flatten())\n",
        "model.add(Dense(512, activation='relu'))\n",
        "model.add(Dropout(0.2))"
      ],
      "metadata": {
        "id": "tN7kOMo7YCMf"
      },
      "execution_count": 78,
      "outputs": []
    },
    {
      "cell_type": "code",
      "source": [
        "model.add(Dense(6, activation='softmax'))"
      ],
      "metadata": {
        "id": "LLfbUIhGYDEp"
      },
      "execution_count": 79,
      "outputs": []
    },
    {
      "cell_type": "code",
      "source": [
        "model.compile(optimizer = 'adam', loss='categorical_crossentropy', metrics=['accuracy'])"
      ],
      "metadata": {
        "id": "C-ppWxoHa6yR"
      },
      "execution_count": 80,
      "outputs": []
    },
    {
      "cell_type": "code",
      "source": [
        "#X_train = np.array([np.array(val) for val in X_train])"
      ],
      "metadata": {
        "id": "GEMTQHDeg4sH"
      },
      "execution_count": 57,
      "outputs": []
    },
    {
      "cell_type": "code",
      "source": [
        "y_train"
      ],
      "metadata": {
        "colab": {
          "base_uri": "https://localhost:8080/"
        },
        "id": "SKJqTe_mhKXk",
        "outputId": "632060f6-3414-4e40-a1e9-d3b97cbf010c"
      },
      "execution_count": 81,
      "outputs": [
        {
          "output_type": "execute_result",
          "data": {
            "text/plain": [
              "array([0., 4., 5., ..., 3., 2., 2.], dtype=float32)"
            ]
          },
          "metadata": {},
          "execution_count": 81
        }
      ]
    },
    {
      "cell_type": "code",
      "source": [
        "from keras.utils import to_categorical"
      ],
      "metadata": {
        "id": "HX-EZAdajPtp"
      },
      "execution_count": 82,
      "outputs": []
    },
    {
      "cell_type": "code",
      "source": [
        "one_hot_label = to_categorical(y_train,num_classes = 6)"
      ],
      "metadata": {
        "id": "63jPcPJ0jWF6"
      },
      "execution_count": 83,
      "outputs": []
    },
    {
      "cell_type": "code",
      "source": [
        "y_train"
      ],
      "metadata": {
        "colab": {
          "base_uri": "https://localhost:8080/"
        },
        "id": "O1fLIZRolEvq",
        "outputId": "eb98fc5a-9670-4eb8-8a28-3e8735c5a0fb"
      },
      "execution_count": 84,
      "outputs": [
        {
          "output_type": "execute_result",
          "data": {
            "text/plain": [
              "array([0., 4., 5., ..., 3., 2., 2.], dtype=float32)"
            ]
          },
          "metadata": {},
          "execution_count": 84
        }
      ]
    },
    {
      "cell_type": "code",
      "source": [
        "one_hot_label"
      ],
      "metadata": {
        "colab": {
          "base_uri": "https://localhost:8080/"
        },
        "id": "ZHgF1ad4lDav",
        "outputId": "eff731fa-0334-4fd7-8bb6-d5db25a19e56"
      },
      "execution_count": 62,
      "outputs": [
        {
          "output_type": "execute_result",
          "data": {
            "text/plain": [
              "array([[1., 0., 0., 0., 0., 0.],\n",
              "       [0., 0., 0., 0., 1., 0.],\n",
              "       [0., 0., 0., 0., 0., 1.],\n",
              "       ...,\n",
              "       [0., 0., 0., 1., 0., 0.],\n",
              "       [0., 0., 1., 0., 0., 0.],\n",
              "       [0., 0., 1., 0., 0., 0.]], dtype=float32)"
            ]
          },
          "metadata": {},
          "execution_count": 62
        }
      ]
    },
    {
      "cell_type": "code",
      "source": [
        "#X_test = np.array([np.array(val) for val in X_test])\n",
        "one_hot_label2 = to_categorical(y_test,num_classes = 6)"
      ],
      "metadata": {
        "id": "HKfYU80KlUiC"
      },
      "execution_count": 85,
      "outputs": []
    },
    {
      "cell_type": "code",
      "source": [
        "X_train.shape"
      ],
      "metadata": {
        "colab": {
          "base_uri": "https://localhost:8080/"
        },
        "id": "vaOxJEJZlndH",
        "outputId": "ea774208-2421-4d9a-ba27-81c06e8e5639"
      },
      "execution_count": 86,
      "outputs": [
        {
          "output_type": "execute_result",
          "data": {
            "text/plain": [
              "(18964, 48, 48, 1)"
            ]
          },
          "metadata": {},
          "execution_count": 86
        }
      ]
    },
    {
      "cell_type": "code",
      "source": [
        "history=model.fit(X_train,one_hot_label,steps_per_epoch=100, epochs=150, validation_data=(X_test,one_hot_label2), validation_steps=100)"
      ],
      "metadata": {
        "colab": {
          "base_uri": "https://localhost:8080/"
        },
        "id": "yUuaf3P_a8f1",
        "outputId": "a7cd8470-5c1b-42a2-e325-32293890dab4"
      },
      "execution_count": 87,
      "outputs": [
        {
          "output_type": "stream",
          "name": "stdout",
          "text": [
            "Epoch 1/150\n",
            "100/100 [==============================] - ETA: 0s - loss: 1.5444 - accuracy: 0.3632"
          ]
        },
        {
          "output_type": "stream",
          "name": "stderr",
          "text": [
            "WARNING:tensorflow:Your input ran out of data; interrupting training. Make sure that your dataset or generator can generate at least `steps_per_epoch * epochs` batches (in this case, 100 batches). You may need to use the repeat() function when building your dataset.\n"
          ]
        },
        {
          "output_type": "stream",
          "name": "stdout",
          "text": [
            "\b\b\b\b\b\b\b\b\b\b\b\b\b\b\b\b\b\b\b\b\b\b\b\b\b\b\b\b\b\b\b\b\b\b\b\b\b\b\b\b\b\b\b\b\b\b\b\b\b\b\b\b\b\b\b\b\b\b\b\b\b\b\b\b\b\b\b\b\b\b\b\b\b\b\b\b\b\b\b\b\b\b\b\b\r100/100 [==============================] - 16s 60ms/step - loss: 1.5444 - accuracy: 0.3632 - val_loss: 1.3101 - val_accuracy: 0.4740\n",
            "Epoch 2/150\n",
            "100/100 [==============================] - 4s 39ms/step - loss: 1.1852 - accuracy: 0.5195\n",
            "Epoch 3/150\n",
            "100/100 [==============================] - 4s 40ms/step - loss: 1.0481 - accuracy: 0.5669\n",
            "Epoch 4/150\n",
            "100/100 [==============================] - 4s 40ms/step - loss: 0.9712 - accuracy: 0.5945\n",
            "Epoch 5/150\n",
            "100/100 [==============================] - 4s 40ms/step - loss: 0.9049 - accuracy: 0.6240\n",
            "Epoch 6/150\n",
            "100/100 [==============================] - 4s 40ms/step - loss: 0.8585 - accuracy: 0.6432\n",
            "Epoch 7/150\n",
            "100/100 [==============================] - 4s 40ms/step - loss: 0.8179 - accuracy: 0.6591\n",
            "Epoch 8/150\n",
            "100/100 [==============================] - 4s 40ms/step - loss: 0.7861 - accuracy: 0.6690\n",
            "Epoch 9/150\n",
            "100/100 [==============================] - 4s 40ms/step - loss: 0.7541 - accuracy: 0.6843\n",
            "Epoch 10/150\n",
            "100/100 [==============================] - 4s 40ms/step - loss: 0.7228 - accuracy: 0.6945\n",
            "Epoch 11/150\n",
            "100/100 [==============================] - 4s 40ms/step - loss: 0.6892 - accuracy: 0.7080\n",
            "Epoch 12/150\n",
            "100/100 [==============================] - 4s 40ms/step - loss: 0.6639 - accuracy: 0.7217\n",
            "Epoch 13/150\n",
            "100/100 [==============================] - 4s 40ms/step - loss: 0.6307 - accuracy: 0.7341\n",
            "Epoch 14/150\n",
            "100/100 [==============================] - 4s 40ms/step - loss: 0.6011 - accuracy: 0.7483\n",
            "Epoch 15/150\n",
            "100/100 [==============================] - 4s 40ms/step - loss: 0.5748 - accuracy: 0.7592\n",
            "Epoch 16/150\n",
            "100/100 [==============================] - 4s 40ms/step - loss: 0.5574 - accuracy: 0.7658\n",
            "Epoch 17/150\n",
            "100/100 [==============================] - 4s 40ms/step - loss: 0.5193 - accuracy: 0.7841\n",
            "Epoch 18/150\n",
            "100/100 [==============================] - 4s 40ms/step - loss: 0.5088 - accuracy: 0.7907\n",
            "Epoch 19/150\n",
            "100/100 [==============================] - 4s 39ms/step - loss: 0.4653 - accuracy: 0.8102\n",
            "Epoch 20/150\n",
            "100/100 [==============================] - 4s 40ms/step - loss: 0.4404 - accuracy: 0.8200\n",
            "Epoch 21/150\n",
            "100/100 [==============================] - 4s 40ms/step - loss: 0.4261 - accuracy: 0.8231\n",
            "Epoch 22/150\n",
            "100/100 [==============================] - 4s 39ms/step - loss: 0.3994 - accuracy: 0.8333\n",
            "Epoch 23/150\n",
            "100/100 [==============================] - 4s 39ms/step - loss: 0.3686 - accuracy: 0.8521\n",
            "Epoch 24/150\n",
            "100/100 [==============================] - 4s 40ms/step - loss: 0.3496 - accuracy: 0.8559\n",
            "Epoch 25/150\n",
            "100/100 [==============================] - 4s 40ms/step - loss: 0.3228 - accuracy: 0.8698\n",
            "Epoch 26/150\n",
            "100/100 [==============================] - 4s 40ms/step - loss: 0.3084 - accuracy: 0.8746\n",
            "Epoch 27/150\n",
            "100/100 [==============================] - 4s 40ms/step - loss: 0.2919 - accuracy: 0.8838\n",
            "Epoch 28/150\n",
            "100/100 [==============================] - 4s 40ms/step - loss: 0.2727 - accuracy: 0.8903\n",
            "Epoch 29/150\n",
            "100/100 [==============================] - 4s 40ms/step - loss: 0.2761 - accuracy: 0.8909\n",
            "Epoch 30/150\n",
            "100/100 [==============================] - 4s 40ms/step - loss: 0.2474 - accuracy: 0.9036\n",
            "Epoch 31/150\n",
            "100/100 [==============================] - 4s 40ms/step - loss: 0.2435 - accuracy: 0.9029\n",
            "Epoch 32/150\n",
            "100/100 [==============================] - 4s 40ms/step - loss: 0.2315 - accuracy: 0.9114\n",
            "Epoch 33/150\n",
            "100/100 [==============================] - 4s 40ms/step - loss: 0.2095 - accuracy: 0.9215\n",
            "Epoch 34/150\n",
            "100/100 [==============================] - 4s 40ms/step - loss: 0.2028 - accuracy: 0.9207\n",
            "Epoch 35/150\n",
            "100/100 [==============================] - 4s 40ms/step - loss: 0.1934 - accuracy: 0.9249\n",
            "Epoch 36/150\n",
            "100/100 [==============================] - 4s 40ms/step - loss: 0.1946 - accuracy: 0.9261\n",
            "Epoch 37/150\n",
            "100/100 [==============================] - 4s 40ms/step - loss: 0.1735 - accuracy: 0.9346\n",
            "Epoch 38/150\n",
            "100/100 [==============================] - 4s 40ms/step - loss: 0.1820 - accuracy: 0.9306\n",
            "Epoch 39/150\n",
            "100/100 [==============================] - 4s 40ms/step - loss: 0.1582 - accuracy: 0.9426\n",
            "Epoch 40/150\n",
            "100/100 [==============================] - 4s 40ms/step - loss: 0.1590 - accuracy: 0.9408\n",
            "Epoch 41/150\n",
            "100/100 [==============================] - 4s 40ms/step - loss: 0.1625 - accuracy: 0.9401\n",
            "Epoch 42/150\n",
            "100/100 [==============================] - 4s 40ms/step - loss: 0.1456 - accuracy: 0.9460\n",
            "Epoch 43/150\n",
            "100/100 [==============================] - 4s 40ms/step - loss: 0.1458 - accuracy: 0.9470\n",
            "Epoch 44/150\n",
            "100/100 [==============================] - 4s 40ms/step - loss: 0.1389 - accuracy: 0.9490\n",
            "Epoch 45/150\n",
            "100/100 [==============================] - 4s 40ms/step - loss: 0.1415 - accuracy: 0.9476\n",
            "Epoch 46/150\n",
            "100/100 [==============================] - 4s 40ms/step - loss: 0.1314 - accuracy: 0.9529\n",
            "Epoch 47/150\n",
            "100/100 [==============================] - 4s 40ms/step - loss: 0.1244 - accuracy: 0.9539\n",
            "Epoch 48/150\n",
            "100/100 [==============================] - 4s 40ms/step - loss: 0.1294 - accuracy: 0.9533\n",
            "Epoch 49/150\n",
            "100/100 [==============================] - 4s 39ms/step - loss: 0.1241 - accuracy: 0.9542\n",
            "Epoch 50/150\n",
            "100/100 [==============================] - 4s 40ms/step - loss: 0.1234 - accuracy: 0.9558\n",
            "Epoch 51/150\n",
            "100/100 [==============================] - 4s 40ms/step - loss: 0.1275 - accuracy: 0.9537\n",
            "Epoch 52/150\n",
            "100/100 [==============================] - 4s 40ms/step - loss: 0.1273 - accuracy: 0.9548\n",
            "Epoch 53/150\n",
            "100/100 [==============================] - 4s 39ms/step - loss: 0.1203 - accuracy: 0.9559\n",
            "Epoch 54/150\n",
            "100/100 [==============================] - 4s 40ms/step - loss: 0.1212 - accuracy: 0.9567\n",
            "Epoch 55/150\n",
            "100/100 [==============================] - 4s 40ms/step - loss: 0.1098 - accuracy: 0.9617\n",
            "Epoch 56/150\n",
            "100/100 [==============================] - 4s 40ms/step - loss: 0.1035 - accuracy: 0.9636\n",
            "Epoch 57/150\n",
            "100/100 [==============================] - 4s 40ms/step - loss: 0.1031 - accuracy: 0.9623\n",
            "Epoch 58/150\n",
            "100/100 [==============================] - 4s 40ms/step - loss: 0.1055 - accuracy: 0.9603\n",
            "Epoch 59/150\n",
            "100/100 [==============================] - 4s 39ms/step - loss: 0.1017 - accuracy: 0.9636\n",
            "Epoch 60/150\n",
            "100/100 [==============================] - 4s 40ms/step - loss: 0.1007 - accuracy: 0.9626\n",
            "Epoch 61/150\n",
            "100/100 [==============================] - 4s 40ms/step - loss: 0.0987 - accuracy: 0.9655\n",
            "Epoch 62/150\n",
            "100/100 [==============================] - 4s 40ms/step - loss: 0.1014 - accuracy: 0.9632\n",
            "Epoch 63/150\n",
            "100/100 [==============================] - 4s 40ms/step - loss: 0.0960 - accuracy: 0.9651\n",
            "Epoch 64/150\n",
            "100/100 [==============================] - 4s 40ms/step - loss: 0.0980 - accuracy: 0.9642\n",
            "Epoch 65/150\n",
            "100/100 [==============================] - 4s 40ms/step - loss: 0.0934 - accuracy: 0.9662\n",
            "Epoch 66/150\n",
            "100/100 [==============================] - 4s 40ms/step - loss: 0.0926 - accuracy: 0.9666\n",
            "Epoch 67/150\n",
            "100/100 [==============================] - 4s 40ms/step - loss: 0.0899 - accuracy: 0.9675\n",
            "Epoch 68/150\n",
            "100/100 [==============================] - 4s 40ms/step - loss: 0.0848 - accuracy: 0.9697\n",
            "Epoch 69/150\n",
            "100/100 [==============================] - 4s 40ms/step - loss: 0.0872 - accuracy: 0.9679\n",
            "Epoch 70/150\n",
            "100/100 [==============================] - 4s 40ms/step - loss: 0.0850 - accuracy: 0.9695\n",
            "Epoch 71/150\n",
            "100/100 [==============================] - 4s 40ms/step - loss: 0.0921 - accuracy: 0.9665\n",
            "Epoch 72/150\n",
            "100/100 [==============================] - 4s 40ms/step - loss: 0.0906 - accuracy: 0.9674\n",
            "Epoch 73/150\n",
            "100/100 [==============================] - 4s 40ms/step - loss: 0.0861 - accuracy: 0.9695\n",
            "Epoch 74/150\n",
            "100/100 [==============================] - 4s 40ms/step - loss: 0.0842 - accuracy: 0.9687\n",
            "Epoch 75/150\n",
            "100/100 [==============================] - 4s 40ms/step - loss: 0.0829 - accuracy: 0.9693\n",
            "Epoch 76/150\n",
            "100/100 [==============================] - 4s 40ms/step - loss: 0.0816 - accuracy: 0.9706\n",
            "Epoch 77/150\n",
            "100/100 [==============================] - 4s 40ms/step - loss: 0.0865 - accuracy: 0.9683\n",
            "Epoch 78/150\n",
            "100/100 [==============================] - 4s 40ms/step - loss: 0.0829 - accuracy: 0.9705\n",
            "Epoch 79/150\n",
            "100/100 [==============================] - 4s 40ms/step - loss: 0.0782 - accuracy: 0.9712\n",
            "Epoch 80/150\n",
            "100/100 [==============================] - 4s 40ms/step - loss: 0.0793 - accuracy: 0.9718\n",
            "Epoch 81/150\n",
            "100/100 [==============================] - 4s 39ms/step - loss: 0.0803 - accuracy: 0.9700\n",
            "Epoch 82/150\n",
            "100/100 [==============================] - 4s 40ms/step - loss: 0.0821 - accuracy: 0.9697\n",
            "Epoch 83/150\n",
            "100/100 [==============================] - 4s 40ms/step - loss: 0.0726 - accuracy: 0.9737\n",
            "Epoch 84/150\n",
            "100/100 [==============================] - 4s 40ms/step - loss: 0.0863 - accuracy: 0.9678\n",
            "Epoch 85/150\n",
            "100/100 [==============================] - 4s 40ms/step - loss: 0.0752 - accuracy: 0.9730\n",
            "Epoch 86/150\n",
            "100/100 [==============================] - 4s 40ms/step - loss: 0.0789 - accuracy: 0.9722\n",
            "Epoch 87/150\n",
            "100/100 [==============================] - 4s 39ms/step - loss: 0.0723 - accuracy: 0.9732\n",
            "Epoch 88/150\n",
            "100/100 [==============================] - 4s 40ms/step - loss: 0.0740 - accuracy: 0.9713\n",
            "Epoch 89/150\n",
            "100/100 [==============================] - 4s 40ms/step - loss: 0.0783 - accuracy: 0.9721\n",
            "Epoch 90/150\n",
            "100/100 [==============================] - 4s 40ms/step - loss: 0.0739 - accuracy: 0.9738\n",
            "Epoch 91/150\n",
            "100/100 [==============================] - 4s 40ms/step - loss: 0.0725 - accuracy: 0.9740\n",
            "Epoch 92/150\n",
            "100/100 [==============================] - 4s 40ms/step - loss: 0.0687 - accuracy: 0.9760\n",
            "Epoch 93/150\n",
            "100/100 [==============================] - 4s 39ms/step - loss: 0.0716 - accuracy: 0.9753\n",
            "Epoch 94/150\n",
            "100/100 [==============================] - 4s 40ms/step - loss: 0.0683 - accuracy: 0.9738\n",
            "Epoch 95/150\n",
            "100/100 [==============================] - 4s 40ms/step - loss: 0.0669 - accuracy: 0.9766\n",
            "Epoch 96/150\n",
            "100/100 [==============================] - 4s 40ms/step - loss: 0.0789 - accuracy: 0.9713\n",
            "Epoch 97/150\n",
            "100/100 [==============================] - 4s 40ms/step - loss: 0.0665 - accuracy: 0.9751\n",
            "Epoch 98/150\n",
            "100/100 [==============================] - 4s 40ms/step - loss: 0.0703 - accuracy: 0.9742\n",
            "Epoch 99/150\n",
            "100/100 [==============================] - 4s 40ms/step - loss: 0.0732 - accuracy: 0.9732\n",
            "Epoch 100/150\n",
            "100/100 [==============================] - 4s 40ms/step - loss: 0.0725 - accuracy: 0.9727\n",
            "Epoch 101/150\n",
            "100/100 [==============================] - 4s 40ms/step - loss: 0.0715 - accuracy: 0.9734\n",
            "Epoch 102/150\n",
            "100/100 [==============================] - 4s 40ms/step - loss: 0.0681 - accuracy: 0.9736\n",
            "Epoch 103/150\n",
            "100/100 [==============================] - 4s 40ms/step - loss: 0.0727 - accuracy: 0.9725\n",
            "Epoch 104/150\n",
            "100/100 [==============================] - 4s 40ms/step - loss: 0.0618 - accuracy: 0.9779\n",
            "Epoch 105/150\n",
            "100/100 [==============================] - 4s 40ms/step - loss: 0.0755 - accuracy: 0.9727\n",
            "Epoch 106/150\n",
            "100/100 [==============================] - 4s 40ms/step - loss: 0.0671 - accuracy: 0.9773\n",
            "Epoch 107/150\n",
            "100/100 [==============================] - 4s 40ms/step - loss: 0.0647 - accuracy: 0.9773\n",
            "Epoch 108/150\n",
            "100/100 [==============================] - 4s 40ms/step - loss: 0.0637 - accuracy: 0.9766\n",
            "Epoch 109/150\n",
            "100/100 [==============================] - 4s 40ms/step - loss: 0.0697 - accuracy: 0.9747\n",
            "Epoch 110/150\n",
            "100/100 [==============================] - 4s 40ms/step - loss: 0.0644 - accuracy: 0.9762\n",
            "Epoch 111/150\n",
            "100/100 [==============================] - 4s 39ms/step - loss: 0.0656 - accuracy: 0.9763\n",
            "Epoch 112/150\n",
            "100/100 [==============================] - 4s 40ms/step - loss: 0.0645 - accuracy: 0.9765\n",
            "Epoch 113/150\n",
            "100/100 [==============================] - 4s 40ms/step - loss: 0.0609 - accuracy: 0.9786\n",
            "Epoch 114/150\n",
            "100/100 [==============================] - 4s 39ms/step - loss: 0.0657 - accuracy: 0.9763\n",
            "Epoch 115/150\n",
            "100/100 [==============================] - 4s 40ms/step - loss: 0.0619 - accuracy: 0.9775\n",
            "Epoch 116/150\n",
            "100/100 [==============================] - 4s 40ms/step - loss: 0.0608 - accuracy: 0.9782\n",
            "Epoch 117/150\n",
            "100/100 [==============================] - 4s 40ms/step - loss: 0.0596 - accuracy: 0.9781\n",
            "Epoch 118/150\n",
            "100/100 [==============================] - 4s 40ms/step - loss: 0.0609 - accuracy: 0.9785\n",
            "Epoch 119/150\n",
            "100/100 [==============================] - 4s 40ms/step - loss: 0.0625 - accuracy: 0.9760\n",
            "Epoch 120/150\n",
            "100/100 [==============================] - 4s 40ms/step - loss: 0.0586 - accuracy: 0.9785\n",
            "Epoch 121/150\n",
            "100/100 [==============================] - 4s 40ms/step - loss: 0.0647 - accuracy: 0.9762\n",
            "Epoch 122/150\n",
            "100/100 [==============================] - 4s 40ms/step - loss: 0.0620 - accuracy: 0.9777\n",
            "Epoch 123/150\n",
            "100/100 [==============================] - 4s 40ms/step - loss: 0.0569 - accuracy: 0.9796\n",
            "Epoch 124/150\n",
            "100/100 [==============================] - 4s 40ms/step - loss: 0.0676 - accuracy: 0.9769\n",
            "Epoch 125/150\n",
            "100/100 [==============================] - 4s 40ms/step - loss: 0.0619 - accuracy: 0.9780\n",
            "Epoch 126/150\n",
            "100/100 [==============================] - 4s 40ms/step - loss: 0.0584 - accuracy: 0.9789\n",
            "Epoch 127/150\n",
            "100/100 [==============================] - 4s 40ms/step - loss: 0.0602 - accuracy: 0.9783\n",
            "Epoch 128/150\n",
            "100/100 [==============================] - 4s 40ms/step - loss: 0.0587 - accuracy: 0.9787\n",
            "Epoch 129/150\n",
            "100/100 [==============================] - 4s 40ms/step - loss: 0.0526 - accuracy: 0.9793\n",
            "Epoch 130/150\n",
            "100/100 [==============================] - 4s 40ms/step - loss: 0.0619 - accuracy: 0.9769\n",
            "Epoch 131/150\n",
            "100/100 [==============================] - 4s 40ms/step - loss: 0.0645 - accuracy: 0.9779\n",
            "Epoch 132/150\n",
            "100/100 [==============================] - 4s 39ms/step - loss: 0.0581 - accuracy: 0.9783\n",
            "Epoch 133/150\n",
            "100/100 [==============================] - 4s 40ms/step - loss: 0.0568 - accuracy: 0.9781\n",
            "Epoch 134/150\n",
            "100/100 [==============================] - 4s 40ms/step - loss: 0.0559 - accuracy: 0.9787\n",
            "Epoch 135/150\n",
            "100/100 [==============================] - 4s 40ms/step - loss: 0.0500 - accuracy: 0.9813\n",
            "Epoch 136/150\n",
            "100/100 [==============================] - 4s 40ms/step - loss: 0.0544 - accuracy: 0.9799\n",
            "Epoch 137/150\n",
            "100/100 [==============================] - 4s 40ms/step - loss: 0.0594 - accuracy: 0.9784\n",
            "Epoch 138/150\n",
            "100/100 [==============================] - 4s 40ms/step - loss: 0.0546 - accuracy: 0.9800\n",
            "Epoch 139/150\n",
            "100/100 [==============================] - 4s 39ms/step - loss: 0.0468 - accuracy: 0.9827\n",
            "Epoch 140/150\n",
            "100/100 [==============================] - 4s 40ms/step - loss: 0.0608 - accuracy: 0.9780\n",
            "Epoch 141/150\n",
            "100/100 [==============================] - 4s 39ms/step - loss: 0.0542 - accuracy: 0.9815\n",
            "Epoch 142/150\n",
            "100/100 [==============================] - 4s 40ms/step - loss: 0.0525 - accuracy: 0.9810\n",
            "Epoch 143/150\n",
            "100/100 [==============================] - 4s 40ms/step - loss: 0.0576 - accuracy: 0.9800\n",
            "Epoch 144/150\n",
            "100/100 [==============================] - 4s 40ms/step - loss: 0.0516 - accuracy: 0.9813\n",
            "Epoch 145/150\n",
            "100/100 [==============================] - 4s 40ms/step - loss: 0.0606 - accuracy: 0.9784\n",
            "Epoch 146/150\n",
            "100/100 [==============================] - 4s 40ms/step - loss: 0.0607 - accuracy: 0.9780\n",
            "Epoch 147/150\n",
            "100/100 [==============================] - 4s 40ms/step - loss: 0.0579 - accuracy: 0.9783\n",
            "Epoch 148/150\n",
            "100/100 [==============================] - 4s 40ms/step - loss: 0.0566 - accuracy: 0.9795\n",
            "Epoch 149/150\n",
            "100/100 [==============================] - 4s 40ms/step - loss: 0.0558 - accuracy: 0.9792\n",
            "Epoch 150/150\n",
            "100/100 [==============================] - 4s 40ms/step - loss: 0.0562 - accuracy: 0.9792\n"
          ]
        }
      ]
    },
    {
      "cell_type": "code",
      "source": [
        "model.save('age_model.h5')"
      ],
      "metadata": {
        "id": "__q0Ef6edw2f"
      },
      "execution_count": 88,
      "outputs": []
    },
    {
      "cell_type": "code",
      "source": [
        "import cv2\n",
        "import numpy as np\n",
        "from keras.models import load_model\n",
        "\n",
        "model=load_model('age_model.h5')\n",
        "\n",
        "faceDetect=cv2.CascadeClassifier(cv2.data.haarcascades + 'haarcascade_frontalface_default.xml')\n",
        "\n",
        "frame=cv2.imread(\"/content/photo-1630305131239-c8df91783f10.jpg\") #baby pic \n",
        "gray=cv2.cvtColor(frame, cv2.COLOR_BGR2GRAY)\n",
        "faces= faceDetect.detectMultiScale(gray, 1.3, 3)\n",
        "x,y,w,h = faces[0]\n",
        "sub_face_img=gray[y:y+h, x:x+w]\n",
        "resized=cv2.resize(sub_face_img,(48,48))\n",
        "normalize=resized/255.0\n",
        "reshaped=np.reshape(normalize, (1, 48, 48, 1))\n",
        "result=model.predict(reshaped)\n",
        "label=np.argmax(result, axis=1)[0]\n",
        "print(label)"
      ],
      "metadata": {
        "colab": {
          "base_uri": "https://localhost:8080/"
        },
        "id": "7-7_aVplqFkC",
        "outputId": "4421770c-3cce-4c38-9648-b292029c3eca"
      },
      "execution_count": 98,
      "outputs": [
        {
          "output_type": "stream",
          "name": "stdout",
          "text": [
            "1/1 [==============================] - 0s 118ms/step\n",
            "0\n"
          ]
        }
      ]
    },
    {
      "cell_type": "markdown",
      "source": [
        "GENDER"
      ],
      "metadata": {
        "id": "l7bgrVi3sC9z"
      }
    },
    {
      "cell_type": "code",
      "source": [
        "from sklearn.model_selection import train_test_split\n",
        "X_train,X_test,y_train,y_test = train_test_split(X,np.array(df['gender']),test_size = 0.2, random_state = 30)"
      ],
      "metadata": {
        "id": "6Ag8Z2zcqhvP"
      },
      "execution_count": 115,
      "outputs": []
    },
    {
      "cell_type": "code",
      "source": [
        "model2 = Sequential()"
      ],
      "metadata": {
        "id": "H40A-Zfgqlla"
      },
      "execution_count": 116,
      "outputs": []
    },
    {
      "cell_type": "code",
      "source": [
        "model2.add(Conv2D(32, kernel_size=(3, 3), activation='relu', input_shape=(48,48,1)))"
      ],
      "metadata": {
        "id": "snPa7Y5LsQVG"
      },
      "execution_count": 117,
      "outputs": []
    },
    {
      "cell_type": "code",
      "source": [
        "model2.add(Conv2D(64, kernel_size=(3, 3), activation='relu'))\n",
        "model2.add(MaxPooling2D(pool_size=(2, 2)))\n",
        "model2.add(Dropout(0.1))"
      ],
      "metadata": {
        "id": "Nneb15dXsTk1"
      },
      "execution_count": 118,
      "outputs": []
    },
    {
      "cell_type": "code",
      "source": [
        "model2.add(Conv2D(128, kernel_size=(3, 3), activation='relu'))\n",
        "model2.add(MaxPooling2D(pool_size=(2, 2)))\n",
        "model2.add(Dropout(0.1))"
      ],
      "metadata": {
        "id": "jR1h3cBksWlx"
      },
      "execution_count": 119,
      "outputs": []
    },
    {
      "cell_type": "code",
      "source": [
        "model2.add(Conv2D(256, kernel_size=(3, 3), activation='relu'))\n",
        "model2.add(MaxPooling2D(pool_size=(2, 2)))\n",
        "model2.add(Dropout(0.1))"
      ],
      "metadata": {
        "id": "DUmEqTIWsZPP"
      },
      "execution_count": 120,
      "outputs": []
    },
    {
      "cell_type": "code",
      "source": [
        "model2.add(Flatten())\n",
        "model2.add(Dense(512, activation='relu'))\n",
        "model2.add(Dropout(0.2))"
      ],
      "metadata": {
        "id": "Ly_s-QQtsbtb"
      },
      "execution_count": 121,
      "outputs": []
    },
    {
      "cell_type": "code",
      "source": [
        "model2.add(Dense(2, activation='sigmoid'))"
      ],
      "metadata": {
        "id": "SJA27Xy_shlA"
      },
      "execution_count": 122,
      "outputs": []
    },
    {
      "cell_type": "code",
      "source": [
        "model2.compile(optimizer = 'adam', loss='binary_crossentropy', metrics=['accuracy'])"
      ],
      "metadata": {
        "id": "73B-wYRXsj4X"
      },
      "execution_count": 123,
      "outputs": []
    },
    {
      "cell_type": "code",
      "source": [
        "one_hot_label_gender = to_categorical(y_train,num_classes = 2)"
      ],
      "metadata": {
        "id": "6MDBQNe0tAWu"
      },
      "execution_count": 124,
      "outputs": []
    },
    {
      "cell_type": "code",
      "source": [
        "one_hot_label_gender2 = to_categorical(y_test,num_classes = 2)"
      ],
      "metadata": {
        "id": "8uxKJWextAZn"
      },
      "execution_count": 125,
      "outputs": []
    },
    {
      "cell_type": "code",
      "source": [
        "history=model2.fit(X_train,one_hot_label_gender,steps_per_epoch=100, epochs=40, validation_data=(X_test,one_hot_label_gender2), validation_steps=100)"
      ],
      "metadata": {
        "colab": {
          "base_uri": "https://localhost:8080/"
        },
        "id": "OTl58JAuswfV",
        "outputId": "6c855297-d37f-4654-fa17-b8efd3dcb749"
      },
      "execution_count": 126,
      "outputs": [
        {
          "output_type": "stream",
          "name": "stdout",
          "text": [
            "Epoch 1/40\n",
            "100/100 [==============================] - ETA: 0s - loss: 0.5382 - accuracy: 0.7183"
          ]
        },
        {
          "output_type": "stream",
          "name": "stderr",
          "text": [
            "WARNING:tensorflow:Your input ran out of data; interrupting training. Make sure that your dataset or generator can generate at least `steps_per_epoch * epochs` batches (in this case, 100 batches). You may need to use the repeat() function when building your dataset.\n"
          ]
        },
        {
          "output_type": "stream",
          "name": "stdout",
          "text": [
            "\b\b\b\b\b\b\b\b\b\b\b\b\b\b\b\b\b\b\b\b\b\b\b\b\b\b\b\b\b\b\b\b\b\b\b\b\b\b\b\b\b\b\b\b\b\b\b\b\b\b\b\b\b\b\b\b\b\b\b\b\b\b\b\b\b\b\b\b\b\b\b\b\b\b\b\b\b\b\b\b\b\b\b\b\r100/100 [==============================] - 5s 48ms/step - loss: 0.5382 - accuracy: 0.7183 - val_loss: 0.3736 - val_accuracy: 0.8386\n",
            "Epoch 2/40\n",
            "100/100 [==============================] - 4s 40ms/step - loss: 0.3510 - accuracy: 0.8439\n",
            "Epoch 3/40\n",
            "100/100 [==============================] - 4s 40ms/step - loss: 0.2976 - accuracy: 0.8726\n",
            "Epoch 4/40\n",
            "100/100 [==============================] - 4s 40ms/step - loss: 0.2637 - accuracy: 0.8866\n",
            "Epoch 5/40\n",
            "100/100 [==============================] - 4s 40ms/step - loss: 0.2428 - accuracy: 0.8946\n",
            "Epoch 6/40\n",
            "100/100 [==============================] - 4s 40ms/step - loss: 0.2195 - accuracy: 0.9078\n",
            "Epoch 7/40\n",
            "100/100 [==============================] - 4s 40ms/step - loss: 0.2083 - accuracy: 0.9125\n",
            "Epoch 8/40\n",
            "100/100 [==============================] - 4s 40ms/step - loss: 0.1899 - accuracy: 0.9226\n",
            "Epoch 9/40\n",
            "100/100 [==============================] - 4s 40ms/step - loss: 0.1747 - accuracy: 0.9299\n",
            "Epoch 10/40\n",
            "100/100 [==============================] - 4s 40ms/step - loss: 0.1616 - accuracy: 0.9368\n",
            "Epoch 11/40\n",
            "100/100 [==============================] - 4s 40ms/step - loss: 0.1473 - accuracy: 0.9436\n",
            "Epoch 12/40\n",
            "100/100 [==============================] - 4s 40ms/step - loss: 0.1378 - accuracy: 0.9457\n",
            "Epoch 13/40\n",
            "100/100 [==============================] - 4s 40ms/step - loss: 0.1257 - accuracy: 0.9504\n",
            "Epoch 14/40\n",
            "100/100 [==============================] - 4s 40ms/step - loss: 0.1116 - accuracy: 0.9579\n",
            "Epoch 15/40\n",
            "100/100 [==============================] - 4s 40ms/step - loss: 0.1062 - accuracy: 0.9584\n",
            "Epoch 16/40\n",
            "100/100 [==============================] - 4s 39ms/step - loss: 0.1005 - accuracy: 0.9618\n",
            "Epoch 17/40\n",
            "100/100 [==============================] - 4s 40ms/step - loss: 0.0910 - accuracy: 0.9644\n",
            "Epoch 18/40\n",
            "100/100 [==============================] - 4s 39ms/step - loss: 0.0877 - accuracy: 0.9664\n",
            "Epoch 19/40\n",
            "100/100 [==============================] - 4s 40ms/step - loss: 0.0763 - accuracy: 0.9707\n",
            "Epoch 20/40\n",
            "100/100 [==============================] - 4s 40ms/step - loss: 0.0746 - accuracy: 0.9700\n",
            "Epoch 21/40\n",
            "100/100 [==============================] - 4s 39ms/step - loss: 0.0681 - accuracy: 0.9745\n",
            "Epoch 22/40\n",
            "100/100 [==============================] - 4s 40ms/step - loss: 0.0659 - accuracy: 0.9740\n",
            "Epoch 23/40\n",
            "100/100 [==============================] - 4s 40ms/step - loss: 0.0587 - accuracy: 0.9780\n",
            "Epoch 24/40\n",
            "100/100 [==============================] - 4s 40ms/step - loss: 0.0561 - accuracy: 0.9800\n",
            "Epoch 25/40\n",
            "100/100 [==============================] - 4s 40ms/step - loss: 0.0514 - accuracy: 0.9797\n",
            "Epoch 26/40\n",
            "100/100 [==============================] - 4s 40ms/step - loss: 0.0473 - accuracy: 0.9828\n",
            "Epoch 27/40\n",
            "100/100 [==============================] - 4s 40ms/step - loss: 0.0494 - accuracy: 0.9813\n",
            "Epoch 28/40\n",
            "100/100 [==============================] - 4s 40ms/step - loss: 0.0453 - accuracy: 0.9833\n",
            "Epoch 29/40\n",
            "100/100 [==============================] - 4s 40ms/step - loss: 0.0382 - accuracy: 0.9868\n",
            "Epoch 30/40\n",
            "100/100 [==============================] - 4s 40ms/step - loss: 0.0399 - accuracy: 0.9856\n",
            "Epoch 31/40\n",
            "100/100 [==============================] - 4s 40ms/step - loss: 0.0399 - accuracy: 0.9846\n",
            "Epoch 32/40\n",
            "100/100 [==============================] - 4s 40ms/step - loss: 0.0368 - accuracy: 0.9866\n",
            "Epoch 33/40\n",
            "100/100 [==============================] - 4s 40ms/step - loss: 0.0346 - accuracy: 0.9866\n",
            "Epoch 34/40\n",
            "100/100 [==============================] - 4s 39ms/step - loss: 0.0311 - accuracy: 0.9890\n",
            "Epoch 35/40\n",
            "100/100 [==============================] - 4s 40ms/step - loss: 0.0339 - accuracy: 0.9877\n",
            "Epoch 36/40\n",
            "100/100 [==============================] - 4s 40ms/step - loss: 0.0290 - accuracy: 0.9892\n",
            "Epoch 37/40\n",
            "100/100 [==============================] - 4s 39ms/step - loss: 0.0253 - accuracy: 0.9906\n",
            "Epoch 38/40\n",
            "100/100 [==============================] - 4s 40ms/step - loss: 0.0265 - accuracy: 0.9909\n",
            "Epoch 39/40\n",
            "100/100 [==============================] - 4s 39ms/step - loss: 0.0296 - accuracy: 0.9893\n",
            "Epoch 40/40\n",
            "100/100 [==============================] - 4s 41ms/step - loss: 0.0255 - accuracy: 0.9906\n"
          ]
        }
      ]
    },
    {
      "cell_type": "code",
      "source": [
        "model2.save('gender_model.h5')"
      ],
      "metadata": {
        "id": "SOPAoW0Wswhj"
      },
      "execution_count": 127,
      "outputs": []
    },
    {
      "cell_type": "code",
      "source": [
        "# 0 : Male & 1 : Female\n",
        "model2=load_model('gender_model.h5')\n",
        "\n",
        "faceDetect=cv2.CascadeClassifier(cv2.data.haarcascades + 'haarcascade_frontalface_default.xml')\n",
        "\n",
        "frame=cv2.imread(\"/content/download (3).jpg\")  \n",
        "gray=cv2.cvtColor(frame, cv2.COLOR_BGR2GRAY)\n",
        "faces= faceDetect.detectMultiScale(gray, 1.3, 3)\n",
        "x,y,w,h = faces[0]\n",
        "sub_face_img=gray[y:y+h, x:x+w]\n",
        "resized=cv2.resize(sub_face_img,(48,48))\n",
        "normalize=resized/255.0\n",
        "reshaped=np.reshape(normalize, (1, 48, 48, 1))\n",
        "result=model2.predict(reshaped)\n",
        "label=np.argmax(result, axis=1)[0]\n",
        "print(label)"
      ],
      "metadata": {
        "colab": {
          "base_uri": "https://localhost:8080/"
        },
        "id": "42jHRLkEvEdR",
        "outputId": "c1577685-c291-4297-920c-7b2239122c2d"
      },
      "execution_count": 133,
      "outputs": [
        {
          "output_type": "stream",
          "name": "stdout",
          "text": [
            "1/1 [==============================] - 0s 74ms/step\n",
            "0\n"
          ]
        }
      ]
    }
  ]
}